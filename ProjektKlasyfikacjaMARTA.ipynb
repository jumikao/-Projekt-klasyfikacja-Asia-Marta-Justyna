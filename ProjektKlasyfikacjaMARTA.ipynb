{
  "nbformat": 4,
  "nbformat_minor": 0,
  "metadata": {
    "colab": {
      "name": "ProjektKlasyfikacjaMARTA.ipynb",
      "provenance": [],
      "authorship_tag": "ABX9TyNrG0QF324P5DYuLFGibokY",
      "include_colab_link": true
    },
    "kernelspec": {
      "name": "python3",
      "display_name": "Python 3"
    },
    "language_info": {
      "name": "python"
    }
  },
  "cells": [
    {
      "cell_type": "markdown",
      "metadata": {
        "id": "view-in-github",
        "colab_type": "text"
      },
      "source": [
        "<a href=\"https://colab.research.google.com/github/jumikao/-Projekt-klasyfikacja-Asia-Marta-Justyna/blob/main/ProjektKlasyfikacjaMARTA.ipynb\" target=\"_parent\"><img src=\"https://colab.research.google.com/assets/colab-badge.svg\" alt=\"Open In Colab\"/></a>"
      ]
    },
    {
      "cell_type": "markdown",
      "source": [
        "1. DESCRIPTION\n",
        "\n",
        "Celem projektu jest zbadanie jakie czynniki wpływają na decyzję o zmianie pracy.\n",
        "Projekt jest realizowany w ramach Projektu grupowego z klasyfikacji.\n",
        "Autorzy: Asia, Marta, Justyna z grupy ARPDataPL2"
      ],
      "metadata": {
        "id": "3colng_JnvGi"
      }
    },
    {
      "cell_type": "markdown",
      "source": [
        "2. DATA COLLECTION"
      ],
      "metadata": {
        "id": "d1wN01CintWX"
      }
    },
    {
      "cell_type": "code",
      "source": [
        "import pandas as pd"
      ],
      "metadata": {
        "id": "ooJJWJjplzZ6"
      },
      "execution_count": 3,
      "outputs": []
    },
    {
      "cell_type": "code",
      "source": [
        "plik_attrition = pd.read_csv(r'https://raw.githubusercontent.com/BasiaSDA/projekt-klasyfikacja/main/attrition.csv')"
      ],
      "metadata": {
        "id": "zJqeVvL9lwIW"
      },
      "execution_count": 7,
      "outputs": []
    },
    {
      "cell_type": "code",
      "source": [
        "plik_df1= pd.read_csv(r'https://raw.githubusercontent.com/BasiaSDA/projekt-klasyfikacja/main/df1.csv')"
      ],
      "metadata": {
        "id": "uHKG_j1nnBVn"
      },
      "execution_count": 8,
      "outputs": []
    },
    {
      "cell_type": "code",
      "source": [
        "plik_df2=pd.read_csv(r'https://raw.githubusercontent.com/BasiaSDA/projekt-klasyfikacja/main/df2.csv')"
      ],
      "metadata": {
        "id": "u7v2fC-HnMu5"
      },
      "execution_count": 9,
      "outputs": []
    },
    {
      "cell_type": "code",
      "source": [
        "plik_sample=pd.read_csv(r'https://raw.githubusercontent.com/BasiaSDA/projekt-klasyfikacja/main/sample_output.csv')"
      ],
      "metadata": {
        "id": "y1M9N200ngPt"
      },
      "execution_count": 10,
      "outputs": []
    }
  ]
}